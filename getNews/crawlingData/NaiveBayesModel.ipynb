{
 "cells": [
  {
   "cell_type": "code",
   "execution_count": 1,
   "metadata": {
    "scrolled": true
   },
   "outputs": [],
   "source": [
    "import csv\n",
    "\n",
    "import pandas as pd\n",
    "import numpy as np\n",
    "\n",
    "from sklearn.model_selection import train_test_split\n",
    "from sklearn.pipeline import Pipeline\n",
    "import nltk\n",
    "import re\n",
    "from nltk.stem import WordNetLemmatizer\n",
    "\n",
    "from sklearn.feature_extraction.text import TfidfVectorizer\n",
    "from sklearn.naive_bayes import MultinomialNB\n",
    "from sklearn.model_selection import GridSearchCV\n",
    "from sklearn.model_selection import KFold\n",
    "from sklearn.metrics import precision_recall_curve, auc\n",
    "from sklearn.metrics import roc_curve ,roc_auc_score\n",
    "from sklearn.metrics import confusion_matrix\n",
    "import matplotlib.pyplot as plt\n",
    "import dill\n",
    "import pickle\n",
    "import os\n",
    "\n",
    "from collections import Counter\n",
    "\n",
    "\n",
    "#nltk.download('wordnet')\n",
    "#https://stackoverflow.com/questions/37081597/merging-countvectorizer-in-scikit-learn-feature-extraction\n",
    "# This is about combine multiple transformer.\n",
    "#https://www.youtube.com/watch?v=bPYJi1E9xeM"
   ]
  },
  {
   "cell_type": "code",
   "execution_count": 2,
   "metadata": {},
   "outputs": [],
   "source": [
    "#Techcrunch,Thenextweb 사이트의 App 과 hard 부문의 기사를 스크래핑한 각 파일을 불러온다. 그리고 label,text 리스트에 저장한다.\n",
    "label_list = []\n",
    "text_list = []\n",
    "\n",
    "tnw_excel = pd.read_excel('TNW_apps3.xlsx')\n",
    "\n",
    "for index,row in tnw_excel.iterrows():\n",
    "    label_list.append('App')\n",
    "    text_list.append(row['text'])\n",
    "\n",
    "with open('Techcrunch_Apps.csv', 'r', encoding='utf-8',errors = \"ignore\") as crunch_app:\n",
    "    fetch_row = csv.reader(crunch_app,delimiter=',')\n",
    "    next(fetch_row,None)\n",
    "    for row in fetch_row:\n",
    "        label_list.append('App')\n",
    "        text_list.append(row[2])\n",
    "\n",
    "with open('TNW_apps2.csv', 'r', encoding='utf-8',errors = \"ignore\") as tnw_app:\n",
    "    fetch_row = csv.reader(tnw_app,delimiter=',')\n",
    "    next(fetch_row,None)\n",
    "    for row in fetch_row:\n",
    "        label_list.append('App')\n",
    "        text_list.append(row[2])\n",
    "\n",
    "with open('Techcrunch_hard.csv', 'r', encoding='utf-8',errors = \"ignore\") as crunch_hard:\n",
    "    fetch_row = csv.reader(crunch_hard,delimiter=',')\n",
    "    next(fetch_row,None)\n",
    "    for row in fetch_row:\n",
    "        label_list.append('Hard')\n",
    "        text_list.append(row[2])\n",
    " \n",
    "with open('TNW_hard2.csv', 'r', encoding='utf-8',errors = \"ignore\") as tnw_hard:\n",
    "    fetch_row = csv.reader(tnw_hard,delimiter=',')\n",
    "    next(fetch_row,None)\n",
    "    for row in fetch_row:\n",
    "        label_list.append('Hard')\n",
    "        text_list.append(row[2])"
   ]
  },
  {
   "cell_type": "code",
   "execution_count": 3,
   "metadata": {
    "scrolled": true
   },
   "outputs": [
    {
     "name": "stdout",
     "output_type": "stream",
     "text": [
      "4003\n"
     ]
    }
   ],
   "source": [
    "print (len(label_list))"
   ]
  },
  {
   "cell_type": "code",
   "execution_count": 4,
   "metadata": {
    "scrolled": true
   },
   "outputs": [
    {
     "data": {
      "text/plain": [
       "Counter({'App': 2003, 'Hard': 2000})"
      ]
     },
     "execution_count": 4,
     "metadata": {},
     "output_type": "execute_result"
    }
   ],
   "source": [
    "Counter(label_list)"
   ]
  },
  {
   "cell_type": "code",
   "execution_count": 5,
   "metadata": {},
   "outputs": [
    {
     "name": "stdout",
     "output_type": "stream",
     "text": [
      "4003\n"
     ]
    }
   ],
   "source": [
    "print (len(text_list))"
   ]
  },
  {
   "cell_type": "code",
   "execution_count": 6,
   "metadata": {},
   "outputs": [
    {
     "data": {
      "text/plain": [
       "array(['App', 'Hard'], dtype=object)"
      ]
     },
     "execution_count": 6,
     "metadata": {},
     "output_type": "execute_result"
    }
   ],
   "source": [
    "# 두 리스트를 합쳐 모델을 형성하기 위한 데이터프레임을 만든다. \n",
    "article_dataframe = pd.DataFrame(\n",
    "                    {\n",
    "                        'label' : label_list,\n",
    "                        'text' : text_list\n",
    "                    })\n",
    "\n",
    "article_dataframe.label.unique()"
   ]
  },
  {
   "cell_type": "code",
   "execution_count": 7,
   "metadata": {},
   "outputs": [
    {
     "data": {
      "text/html": [
       "<div>\n",
       "<style scoped>\n",
       "    .dataframe tbody tr th:only-of-type {\n",
       "        vertical-align: middle;\n",
       "    }\n",
       "\n",
       "    .dataframe tbody tr th {\n",
       "        vertical-align: top;\n",
       "    }\n",
       "\n",
       "    .dataframe thead th {\n",
       "        text-align: right;\n",
       "    }\n",
       "</style>\n",
       "<table border=\"1\" class=\"dataframe\">\n",
       "  <thead>\n",
       "    <tr style=\"text-align: right;\">\n",
       "      <th></th>\n",
       "      <th>label</th>\n",
       "      <th>text</th>\n",
       "    </tr>\n",
       "  </thead>\n",
       "  <tbody>\n",
       "    <tr>\n",
       "      <th>0</th>\n",
       "      <td>App</td>\n",
       "      <td>Google today announced it was adding a Q&amp;A fea...</td>\n",
       "    </tr>\n",
       "    <tr>\n",
       "      <th>1</th>\n",
       "      <td>App</td>\n",
       "      <td>A tweet sent by former US President Barack Oba...</td>\n",
       "    </tr>\n",
       "    <tr>\n",
       "      <th>2</th>\n",
       "      <td>App</td>\n",
       "      <td>The Facebook birthday message has practically ...</td>\n",
       "    </tr>\n",
       "    <tr>\n",
       "      <th>3</th>\n",
       "      <td>App</td>\n",
       "      <td>Google wants to save you from the sniffles. To...</td>\n",
       "    </tr>\n",
       "    <tr>\n",
       "      <th>4</th>\n",
       "      <td>App</td>\n",
       "      <td>Tesla already has a pretty sleek configuration...</td>\n",
       "    </tr>\n",
       "  </tbody>\n",
       "</table>\n",
       "</div>"
      ],
      "text/plain": [
       "  label                                               text\n",
       "0   App  Google today announced it was adding a Q&A fea...\n",
       "1   App  A tweet sent by former US President Barack Oba...\n",
       "2   App  The Facebook birthday message has practically ...\n",
       "3   App  Google wants to save you from the sniffles. To...\n",
       "4   App  Tesla already has a pretty sleek configuration..."
      ]
     },
     "execution_count": 7,
     "metadata": {},
     "output_type": "execute_result"
    }
   ],
   "source": [
    "article_dataframe.head()"
   ]
  },
  {
   "cell_type": "code",
   "execution_count": 8,
   "metadata": {},
   "outputs": [
    {
     "data": {
      "text/plain": [
       "2003"
      ]
     },
     "execution_count": 8,
     "metadata": {},
     "output_type": "execute_result"
    }
   ],
   "source": [
    "len(article_dataframe[article_dataframe.label == 'App'])"
   ]
  },
  {
   "cell_type": "code",
   "execution_count": 9,
   "metadata": {},
   "outputs": [
    {
     "data": {
      "text/plain": [
       "2000"
      ]
     },
     "execution_count": 9,
     "metadata": {},
     "output_type": "execute_result"
    }
   ],
   "source": [
    "len(article_dataframe[article_dataframe.label == 'Hard'])"
   ]
  },
  {
   "cell_type": "code",
   "execution_count": 10,
   "metadata": {},
   "outputs": [],
   "source": [
    "#데이터를 훈련데이터와 테스트데이터로 나눌 때 label별 데이터가 균등하게 분포할 수 있게 데이터프레임의 행을 섞어 준다.\n",
    "#article_dataframe = article_dataframe.sample (frac = 1).reset_index(drop =True)"
   ]
  },
  {
   "cell_type": "code",
   "execution_count": 11,
   "metadata": {},
   "outputs": [
    {
     "data": {
      "text/html": [
       "<div>\n",
       "<style scoped>\n",
       "    .dataframe tbody tr th:only-of-type {\n",
       "        vertical-align: middle;\n",
       "    }\n",
       "\n",
       "    .dataframe tbody tr th {\n",
       "        vertical-align: top;\n",
       "    }\n",
       "\n",
       "    .dataframe thead th {\n",
       "        text-align: right;\n",
       "    }\n",
       "</style>\n",
       "<table border=\"1\" class=\"dataframe\">\n",
       "  <thead>\n",
       "    <tr style=\"text-align: right;\">\n",
       "      <th></th>\n",
       "      <th>label</th>\n",
       "      <th>text</th>\n",
       "    </tr>\n",
       "  </thead>\n",
       "  <tbody>\n",
       "    <tr>\n",
       "      <th>0</th>\n",
       "      <td>App</td>\n",
       "      <td>Google today announced it was adding a Q&amp;A fea...</td>\n",
       "    </tr>\n",
       "    <tr>\n",
       "      <th>1</th>\n",
       "      <td>App</td>\n",
       "      <td>A tweet sent by former US President Barack Oba...</td>\n",
       "    </tr>\n",
       "    <tr>\n",
       "      <th>2</th>\n",
       "      <td>App</td>\n",
       "      <td>The Facebook birthday message has practically ...</td>\n",
       "    </tr>\n",
       "    <tr>\n",
       "      <th>3</th>\n",
       "      <td>App</td>\n",
       "      <td>Google wants to save you from the sniffles. To...</td>\n",
       "    </tr>\n",
       "    <tr>\n",
       "      <th>4</th>\n",
       "      <td>App</td>\n",
       "      <td>Tesla already has a pretty sleek configuration...</td>\n",
       "    </tr>\n",
       "  </tbody>\n",
       "</table>\n",
       "</div>"
      ],
      "text/plain": [
       "  label                                               text\n",
       "0   App  Google today announced it was adding a Q&A fea...\n",
       "1   App  A tweet sent by former US President Barack Oba...\n",
       "2   App  The Facebook birthday message has practically ...\n",
       "3   App  Google wants to save you from the sniffles. To...\n",
       "4   App  Tesla already has a pretty sleek configuration..."
      ]
     },
     "execution_count": 11,
     "metadata": {},
     "output_type": "execute_result"
    }
   ],
   "source": [
    "article_dataframe.head()"
   ]
  },
  {
   "cell_type": "code",
   "execution_count": 12,
   "metadata": {},
   "outputs": [],
   "source": [
    "# 텍스트와 클래스 데이터를 나눈다.\n",
    "# 데이터를 무작위로 섞어주는 과정이 필요하다.\n",
    "df_x = article_dataframe['text']\n",
    "df_y = article_dataframe['label']"
   ]
  },
  {
   "cell_type": "code",
   "execution_count": 13,
   "metadata": {
    "scrolled": true
   },
   "outputs": [
    {
     "data": {
      "text/plain": [
       "0        App\n",
       "1        App\n",
       "2        App\n",
       "3        App\n",
       "4        App\n",
       "5        App\n",
       "6        App\n",
       "7        App\n",
       "8        App\n",
       "9        App\n",
       "10       App\n",
       "11       App\n",
       "12       App\n",
       "13       App\n",
       "14       App\n",
       "15       App\n",
       "16       App\n",
       "17       App\n",
       "18       App\n",
       "19       App\n",
       "20       App\n",
       "21       App\n",
       "22       App\n",
       "23       App\n",
       "24       App\n",
       "25       App\n",
       "26       App\n",
       "27       App\n",
       "28       App\n",
       "29       App\n",
       "        ... \n",
       "3973    Hard\n",
       "3974    Hard\n",
       "3975    Hard\n",
       "3976    Hard\n",
       "3977    Hard\n",
       "3978    Hard\n",
       "3979    Hard\n",
       "3980    Hard\n",
       "3981    Hard\n",
       "3982    Hard\n",
       "3983    Hard\n",
       "3984    Hard\n",
       "3985    Hard\n",
       "3986    Hard\n",
       "3987    Hard\n",
       "3988    Hard\n",
       "3989    Hard\n",
       "3990    Hard\n",
       "3991    Hard\n",
       "3992    Hard\n",
       "3993    Hard\n",
       "3994    Hard\n",
       "3995    Hard\n",
       "3996    Hard\n",
       "3997    Hard\n",
       "3998    Hard\n",
       "3999    Hard\n",
       "4000    Hard\n",
       "4001    Hard\n",
       "4002    Hard\n",
       "Name: label, Length: 4003, dtype: object"
      ]
     },
     "execution_count": 13,
     "metadata": {},
     "output_type": "execute_result"
    }
   ],
   "source": [
    "df_y"
   ]
  },
  {
   "cell_type": "code",
   "execution_count": 14,
   "metadata": {},
   "outputs": [],
   "source": [
    "x_traintfidf_vect = TfidfVectorizer(stop_words='english')"
   ]
  },
  {
   "cell_type": "code",
   "execution_count": 15,
   "metadata": {},
   "outputs": [],
   "source": [
    "x_train, x_test, y_train, y_test = train_test_split(df_x,df_y,test_size=0.2, train_size = 0.8,random_state = 0,shuffle=True)"
   ]
  },
  {
   "cell_type": "code",
   "execution_count": 16,
   "metadata": {},
   "outputs": [],
   "source": [
    "x_traintfidf = x_traintfidf_vect.fit_transform(x_train) "
   ]
  },
  {
   "cell_type": "code",
   "execution_count": 17,
   "metadata": {},
   "outputs": [
    {
     "data": {
      "text/plain": [
       "<3202x30716 sparse matrix of type '<class 'numpy.float64'>'\n",
       "\twith 442878 stored elements in Compressed Sparse Row format>"
      ]
     },
     "execution_count": 17,
     "metadata": {},
     "output_type": "execute_result"
    }
   ],
   "source": [
    "# 512 doc and 15948 어휘를 갖는 tf-idf 형성\n",
    "x_traintfidf"
   ]
  },
  {
   "cell_type": "code",
   "execution_count": 18,
   "metadata": {},
   "outputs": [],
   "source": [
    "a = x_traintfidf.toarray()"
   ]
  },
  {
   "cell_type": "code",
   "execution_count": 19,
   "metadata": {},
   "outputs": [
    {
     "data": {
      "text/plain": [
       "array([0., 0., 0., ..., 0., 0., 0.])"
      ]
     },
     "execution_count": 19,
     "metadata": {},
     "output_type": "execute_result"
    }
   ],
   "source": [
    "a[0]"
   ]
  },
  {
   "cell_type": "code",
   "execution_count": 20,
   "metadata": {},
   "outputs": [
    {
     "data": {
      "text/plain": [
       "30716"
      ]
     },
     "execution_count": 20,
     "metadata": {},
     "output_type": "execute_result"
    }
   ],
   "source": [
    "len(a[0])"
   ]
  },
  {
   "cell_type": "code",
   "execution_count": 21,
   "metadata": {},
   "outputs": [
    {
     "data": {
      "text/plain": [
       "[array(['20', '2000', '260', '30', '3000', '40', 'actually', 'adjust',\n",
       "        'adjustments', 'afforded', 'allow', 'alot', 'amateur', 'app',\n",
       "        'apply', 'apps', 'arcade', 'assigns', 'average', 'balance',\n",
       "        'batches', 'benefits', 'best', 'big', 'bunch', 'buttons', 'cheap',\n",
       "        'chunk', 'colors', 'comes', 'common', 'companion', 'competing',\n",
       "        'comprised', 'considering', 'contrast', 'controls', 'convinced',\n",
       "        'curate', 'custom', 'customizable', 'cut', 'design', 'designed',\n",
       "        'device', 'devices', 'did', 'disappointingly', 'doesn', 'don',\n",
       "        'easy', 'edit', 'editing', 'effective', 'eighty', 'exposure',\n",
       "        'extra', 'extreme', 'fashion', 'faster', 'feel', 'feels',\n",
       "        'flexibility', 'flimsy', 'fond', 'function', 'functions',\n",
       "        'getting', 'giant', 'goes', 'good', 'got', 'great', 'half',\n",
       "        'hardware', 'highlights', 'hire', 'hope', 'hours', 'huge', 'image',\n",
       "        'including', 'individual', 'inflexible', 'intuition', 'ironically',\n",
       "        'jobs', 'just', 'keepers', 'keyboard', 'kicks', 'knob', 'knobs',\n",
       "        'let', 'lightroom', 'like', 'likely', 'little', 'll', 'looked',\n",
       "        'lot', 'loupedeck', 'makes', 'mapped', 'match', 'memory',\n",
       "        'metallic', 'mind', 'minutes', 'modular', 'module', 'money',\n",
       "        'mouse', 'multiple', 'muscle', 'myriad', 'nearly', 'need', 'needs',\n",
       "        'niche', 'numerical', 'ones', 'palette', 'parameters',\n",
       "        'particularly', 'pay', 'people', 'percent', 'photo', 'photograph',\n",
       "        'photographer', 'photographers', 'photos', 'physical', 'plastic',\n",
       "        'portion', 'premeditated', 'preset', 'presets', 'problem',\n",
       "        'process', 'product', 'professionally', 'realize', 'really',\n",
       "        'recommend', 'reduce', 'regularly', 'reiterating', 'remember',\n",
       "        'right', 'rotation', 'roughly', 'saved', 'say', 'scroll',\n",
       "        'sensitivity', 'setting', 'shoot', 'shooting', 'shortcut',\n",
       "        'significant', 'significantly', 'simply', 'skin', 'slider',\n",
       "        'smaller', 'spend', 'step', 'stopped', 'summoning', 'super',\n",
       "        'supremely', 'takes', 'thing', 'thinking', 'thought', 'time',\n",
       "        'timed', 'tiny', 'toiling', 'tones', 'trick', 'turning', 'typical',\n",
       "        'unlike', 'use', 'using', 'usual', 'usually', 'utility', 'v2',\n",
       "        'want', 'wedding', 'wheels', 'white', 'work', 'works', 'worst',\n",
       "        'worth', 'wouldn'], dtype='<U40')]"
      ]
     },
     "execution_count": 21,
     "metadata": {},
     "output_type": "execute_result"
    }
   ],
   "source": [
    "x_traintfidf_vect.inverse_transform(a[0])"
   ]
  },
  {
   "cell_type": "code",
   "execution_count": 23,
   "metadata": {
    "scrolled": true
   },
   "outputs": [
    {
     "data": {
      "text/plain": [
       "'When people hire a photographer, they usually don’t realize how much work goes into the editing process. If I spend eight hours shooting a wedding, it will often take me eighty hours to edit the photos.\\nLoupedeck, a hardware device that assigns physical controls to almost all of Lightroom’s editing functions, is designed to significantly reduce that editing time.\\nUnlike most competing devices that work with multiple apps, such as the modular Palette, the Loupedeck only works with Lightroom. It’s supremely niche, and $260 is a lot of money to pay for such an inflexible device.\\nBut it’s that extreme niche that makes it so effective. For big jobs, it nearly cut my editing time in half. As they say, time is money.\\n\\nThe module is comprised of several controls mapped to almost every function you’ll regularly use in Lightroom. Image rotation is done via a giant knob, your usual exposure parameters are mapped to a bunch of smaller ones, and while a myriad of common functions have their own buttons.\\nI’m particularly fond of how individual colors get their own scroll wheels; I spend a significant portion of my editing time getting the colors just right.\\nThere are also a few customizable buttons that allow extra flexibility – including summoning presets – and you can adjust knob sensitivity and custom functions in an easy-to-use companion app.\\n\\nIronically – and disappointingly, the worst thing about the Loupedeck is its hardware. It’s all plastic, and feels cheap. I don’t have a problem with plastic, mind you, but Loupedeck is using plastic that just doesn’t feel all that great to use, and the buttons are particularly flimsy.\\nTo contrast, the Palette, with its metallic, modular design and arcade-like buttons makes me want to use it all the time.\\nThat’s why it’s a good thing the Loupedeck actually works so well. I timed myself (roughly) toiling through a few big batches, and cut down my time by 30-40 percent when using the Loupedeck. Including the time it takes to curate the keepers, on average, it takes me a little under 2 minutes per photo using a mouse and keyboard. With the Loupedeck, it was about 1:20.\\nConsidering I take somewhere around 2000-3000 photos for the average wedding shoot, that’s a lot of time saved. And I’d likely only get faster as muscle memory kicks in.\\nA big part of that is simply the intuition afforded by hardware controls. On a mouse and keyboard, adjustments are mostly done step by step. I’ll apply a preset, then I’ll adjust the exposure, then the white balance, then the skin tones, etc. At each step, I need to move my mouse to a tiny slider or remember the keyboard shortcut.\\n\\nWith the Loupedeck, I often found myself turning two knobs at once. I stopped thinking of editing photos in my typical numerical, premeditated fashion – this needs +0.5 exposure, -0.3 highlights – and simply turning a bunch of knobs until I got what looked best. Sometimes, a setting I wouldn’t have thought to use on a mouse and keyboard did the trick.\\nIt’s worth reiterating: The Loupedeck is super niche. I wouldn’t recommend it to most amateur photographers, let alone most other people. $260 is alot of money to put down on such a product, and I’m not convinced everyone will see benefits over a mouse and keyboard alone. But if you photograph professionally and use Lightroom a lot, it really can cut down a huge chunk of your editing time. I just hope Loupedeck V2 comes with hardware to match its utility.\\n\\n\\nLoupedeck\\n\\n\\n\\n'"
      ]
     },
     "execution_count": 23,
     "metadata": {},
     "output_type": "execute_result"
    }
   ],
   "source": [
    "x_train.iloc[0]"
   ]
  },
  {
   "cell_type": "code",
   "execution_count": 24,
   "metadata": {},
   "outputs": [],
   "source": [
    "mnb = MultinomialNB()"
   ]
  },
  {
   "cell_type": "code",
   "execution_count": 25,
   "metadata": {},
   "outputs": [
    {
     "data": {
      "text/plain": [
       "MultinomialNB(alpha=1.0, class_prior=None, fit_prior=True)"
      ]
     },
     "execution_count": 25,
     "metadata": {},
     "output_type": "execute_result"
    }
   ],
   "source": [
    "mnb.fit(x_traintfidf,y_train)"
   ]
  },
  {
   "cell_type": "code",
   "execution_count": 26,
   "metadata": {},
   "outputs": [],
   "source": [
    "x_testcv = x_traintfidf_vect.transform(x_test)"
   ]
  },
  {
   "cell_type": "code",
   "execution_count": 27,
   "metadata": {},
   "outputs": [],
   "source": [
    "pred = mnb.predict(x_testcv)"
   ]
  },
  {
   "cell_type": "code",
   "execution_count": 28,
   "metadata": {
    "scrolled": true
   },
   "outputs": [
    {
     "data": {
      "text/plain": [
       "array(['Hard', 'App', 'Hard', 'Hard', 'App', 'App', 'App', 'Hard', 'App',\n",
       "       'App', 'Hard', 'App', 'Hard', 'Hard', 'Hard', 'App', 'Hard',\n",
       "       'Hard', 'Hard', 'Hard', 'Hard', 'App', 'App', 'App', 'App', 'App',\n",
       "       'Hard', 'Hard', 'Hard', 'Hard', 'App', 'App', 'App', 'Hard',\n",
       "       'Hard', 'App', 'App', 'App', 'Hard', 'Hard', 'Hard', 'App', 'App',\n",
       "       'Hard', 'Hard', 'Hard', 'Hard', 'App', 'Hard', 'App', 'App', 'App',\n",
       "       'Hard', 'App', 'App', 'App', 'App', 'Hard', 'Hard', 'Hard', 'App',\n",
       "       'Hard', 'App', 'Hard', 'App', 'Hard', 'App', 'App', 'App', 'App',\n",
       "       'Hard', 'App', 'App', 'Hard', 'App', 'Hard', 'Hard', 'Hard',\n",
       "       'Hard', 'Hard', 'App', 'Hard', 'Hard', 'Hard', 'Hard', 'App',\n",
       "       'App', 'Hard', 'App', 'App', 'Hard', 'Hard', 'Hard', 'App', 'App',\n",
       "       'App', 'Hard', 'App', 'Hard', 'App', 'App', 'Hard', 'Hard', 'Hard',\n",
       "       'Hard', 'App', 'App', 'App', 'App', 'App', 'App', 'App', 'Hard',\n",
       "       'Hard', 'Hard', 'App', 'App', 'App', 'Hard', 'App', 'Hard', 'Hard',\n",
       "       'Hard', 'Hard', 'Hard', 'App', 'Hard', 'Hard', 'App', 'Hard',\n",
       "       'Hard', 'Hard', 'Hard', 'App', 'App', 'Hard', 'App', 'Hard',\n",
       "       'Hard', 'App', 'Hard', 'Hard', 'App', 'App', 'App', 'Hard', 'App',\n",
       "       'Hard', 'Hard', 'Hard', 'App', 'Hard', 'App', 'App', 'Hard', 'App',\n",
       "       'Hard', 'App', 'App', 'App', 'Hard', 'Hard', 'Hard', 'App', 'Hard',\n",
       "       'Hard', 'App', 'Hard', 'App', 'App', 'Hard', 'Hard', 'App', 'Hard',\n",
       "       'App', 'App', 'App', 'Hard', 'App', 'App', 'App', 'Hard', 'Hard',\n",
       "       'App', 'App', 'Hard', 'Hard', 'Hard', 'Hard', 'App', 'App', 'App',\n",
       "       'Hard', 'Hard', 'App', 'Hard', 'Hard', 'App', 'Hard', 'App',\n",
       "       'Hard', 'Hard', 'App', 'App', 'Hard', 'Hard', 'App', 'App', 'App',\n",
       "       'Hard', 'App', 'App', 'Hard', 'App', 'App', 'App', 'Hard', 'App',\n",
       "       'App', 'App', 'Hard', 'App', 'Hard', 'Hard', 'Hard', 'App', 'App',\n",
       "       'App', 'App', 'Hard', 'Hard', 'Hard', 'App', 'App', 'App', 'App',\n",
       "       'Hard', 'App', 'App', 'App', 'Hard', 'App', 'App', 'Hard', 'Hard',\n",
       "       'Hard', 'App', 'Hard', 'App', 'Hard', 'Hard', 'Hard', 'Hard',\n",
       "       'Hard', 'App', 'App', 'Hard', 'App', 'Hard', 'App', 'Hard', 'Hard',\n",
       "       'App', 'Hard', 'App', 'Hard', 'Hard', 'App', 'Hard', 'App', 'Hard',\n",
       "       'App', 'Hard', 'App', 'App', 'App', 'App', 'App', 'App', 'Hard',\n",
       "       'App', 'Hard', 'Hard', 'Hard', 'App', 'App', 'App', 'Hard', 'Hard',\n",
       "       'App', 'Hard', 'App', 'App', 'App', 'Hard', 'Hard', 'Hard', 'Hard',\n",
       "       'Hard', 'Hard', 'App', 'Hard', 'Hard', 'App', 'App', 'Hard', 'App',\n",
       "       'Hard', 'Hard', 'App', 'Hard', 'App', 'App', 'App', 'Hard', 'Hard',\n",
       "       'App', 'Hard', 'App', 'Hard', 'Hard', 'App', 'App', 'App', 'App',\n",
       "       'Hard', 'App', 'App', 'App', 'Hard', 'Hard', 'App', 'Hard', 'Hard',\n",
       "       'App', 'Hard', 'App', 'Hard', 'App', 'App', 'Hard', 'Hard', 'Hard',\n",
       "       'Hard', 'Hard', 'App', 'Hard', 'Hard', 'Hard', 'App', 'App',\n",
       "       'Hard', 'Hard', 'Hard', 'App', 'App', 'App', 'App', 'Hard', 'App',\n",
       "       'Hard', 'App', 'Hard', 'Hard', 'App', 'Hard', 'Hard', 'App', 'App',\n",
       "       'Hard', 'Hard', 'Hard', 'Hard', 'Hard', 'App', 'Hard', 'Hard',\n",
       "       'App', 'App', 'App', 'Hard', 'App', 'Hard', 'Hard', 'App', 'Hard',\n",
       "       'App', 'App', 'Hard', 'App', 'App', 'App', 'App', 'App', 'App',\n",
       "       'Hard', 'Hard', 'Hard', 'Hard', 'Hard', 'App', 'Hard', 'App',\n",
       "       'App', 'App', 'Hard', 'Hard', 'App', 'App', 'Hard', 'Hard', 'Hard',\n",
       "       'Hard', 'App', 'App', 'Hard', 'Hard', 'App', 'App', 'App', 'App',\n",
       "       'Hard', 'App', 'App', 'App', 'Hard', 'Hard', 'Hard', 'App', 'App',\n",
       "       'App', 'App', 'Hard', 'Hard', 'Hard', 'Hard', 'App', 'App', 'Hard',\n",
       "       'App', 'Hard', 'App', 'Hard', 'App', 'App', 'App', 'App', 'Hard',\n",
       "       'Hard', 'Hard', 'App', 'Hard', 'App', 'Hard', 'Hard', 'Hard',\n",
       "       'App', 'Hard', 'Hard', 'App', 'App', 'Hard', 'Hard', 'App', 'App',\n",
       "       'Hard', 'App', 'App', 'App', 'App', 'Hard', 'App', 'Hard', 'App',\n",
       "       'App', 'Hard', 'Hard', 'App', 'Hard', 'Hard', 'App', 'App', 'Hard',\n",
       "       'App', 'App', 'Hard', 'Hard', 'Hard', 'App', 'Hard', 'App', 'App',\n",
       "       'Hard', 'App', 'Hard', 'Hard', 'App', 'Hard', 'App', 'App', 'Hard',\n",
       "       'App', 'App', 'App', 'App', 'Hard', 'App', 'App', 'App', 'App',\n",
       "       'App', 'Hard', 'Hard', 'Hard', 'Hard', 'App', 'App', 'Hard', 'App',\n",
       "       'Hard', 'Hard', 'App', 'Hard', 'App', 'App', 'Hard', 'Hard',\n",
       "       'Hard', 'App', 'App', 'Hard', 'Hard', 'App', 'Hard', 'Hard',\n",
       "       'Hard', 'Hard', 'Hard', 'App', 'App', 'App', 'Hard', 'Hard', 'App',\n",
       "       'Hard', 'Hard', 'App', 'App', 'Hard', 'App', 'Hard', 'Hard',\n",
       "       'Hard', 'App', 'App', 'Hard', 'Hard', 'App', 'App', 'Hard', 'App',\n",
       "       'Hard', 'App', 'Hard', 'Hard', 'Hard', 'App', 'App', 'Hard',\n",
       "       'Hard', 'App', 'Hard', 'Hard', 'App', 'Hard', 'Hard', 'Hard',\n",
       "       'Hard', 'App', 'App', 'App', 'App', 'Hard', 'Hard', 'App', 'Hard',\n",
       "       'App', 'Hard', 'Hard', 'Hard', 'Hard', 'Hard', 'App', 'Hard',\n",
       "       'App', 'Hard', 'App', 'App', 'App', 'App', 'Hard', 'App', 'Hard',\n",
       "       'Hard', 'App', 'App', 'App', 'Hard', 'Hard', 'Hard', 'Hard', 'App',\n",
       "       'App', 'App', 'App', 'App', 'Hard', 'App', 'Hard', 'Hard', 'Hard',\n",
       "       'App', 'App', 'App', 'Hard', 'Hard', 'App', 'App', 'App', 'App',\n",
       "       'App', 'Hard', 'Hard', 'Hard', 'Hard', 'App', 'App', 'Hard',\n",
       "       'Hard', 'Hard', 'Hard', 'Hard', 'Hard', 'Hard', 'Hard', 'App',\n",
       "       'App', 'App', 'App', 'App', 'Hard', 'Hard', 'Hard', 'Hard', 'App',\n",
       "       'App', 'App', 'Hard', 'Hard', 'Hard', 'App', 'Hard', 'Hard',\n",
       "       'Hard', 'Hard', 'Hard', 'App', 'App', 'App', 'App', 'App', 'Hard',\n",
       "       'App', 'App', 'Hard', 'Hard', 'App', 'Hard', 'App', 'App', 'App',\n",
       "       'App', 'Hard', 'Hard', 'App', 'App', 'Hard', 'App', 'App', 'App',\n",
       "       'Hard', 'App', 'Hard', 'Hard', 'Hard', 'App', 'App', 'App', 'App',\n",
       "       'App', 'App', 'App', 'Hard', 'Hard', 'Hard', 'Hard', 'App', 'Hard',\n",
       "       'App', 'Hard', 'Hard', 'App', 'Hard', 'Hard', 'Hard', 'App',\n",
       "       'Hard', 'Hard', 'Hard', 'Hard', 'Hard', 'Hard', 'App', 'Hard',\n",
       "       'App', 'App', 'App', 'Hard', 'Hard', 'Hard', 'App', 'Hard', 'Hard',\n",
       "       'App', 'Hard', 'App', 'App', 'Hard', 'Hard', 'Hard', 'App', 'Hard',\n",
       "       'Hard', 'App', 'Hard', 'App', 'App', 'Hard', 'Hard', 'App', 'Hard',\n",
       "       'App', 'App', 'App', 'Hard', 'Hard', 'Hard', 'App', 'App', 'Hard',\n",
       "       'Hard', 'App', 'Hard', 'Hard', 'App', 'App', 'App', 'Hard', 'Hard',\n",
       "       'Hard', 'App', 'Hard', 'App', 'Hard', 'App', 'Hard', 'App', 'Hard',\n",
       "       'App', 'App', 'Hard', 'Hard', 'App', 'Hard', 'Hard', 'App', 'Hard',\n",
       "       'Hard', 'App', 'App', 'Hard', 'App', 'Hard', 'Hard', 'Hard', 'App',\n",
       "       'Hard', 'Hard', 'App', 'App', 'App'], dtype='<U4')"
      ]
     },
     "execution_count": 28,
     "metadata": {},
     "output_type": "execute_result"
    }
   ],
   "source": [
    "pred"
   ]
  },
  {
   "cell_type": "code",
   "execution_count": 29,
   "metadata": {},
   "outputs": [],
   "source": [
    "actual = np.array(y_test)"
   ]
  },
  {
   "cell_type": "code",
   "execution_count": 30,
   "metadata": {
    "scrolled": true
   },
   "outputs": [
    {
     "data": {
      "text/plain": [
       "array(['Hard', 'App', 'Hard', 'Hard', 'App', 'App', 'App', 'App', 'App',\n",
       "       'App', 'Hard', 'App', 'Hard', 'Hard', 'Hard', 'App', 'Hard',\n",
       "       'Hard', 'Hard', 'Hard', 'Hard', 'App', 'App', 'App', 'App', 'App',\n",
       "       'Hard', 'Hard', 'Hard', 'Hard', 'App', 'App', 'App', 'Hard', 'App',\n",
       "       'App', 'App', 'Hard', 'App', 'Hard', 'Hard', 'App', 'Hard', 'Hard',\n",
       "       'Hard', 'Hard', 'Hard', 'App', 'Hard', 'App', 'App', 'App', 'Hard',\n",
       "       'App', 'App', 'App', 'App', 'Hard', 'Hard', 'Hard', 'App', 'Hard',\n",
       "       'App', 'Hard', 'App', 'Hard', 'App', 'App', 'App', 'App', 'Hard',\n",
       "       'App', 'App', 'Hard', 'App', 'Hard', 'Hard', 'Hard', 'App', 'Hard',\n",
       "       'App', 'App', 'Hard', 'Hard', 'Hard', 'App', 'App', 'App', 'App',\n",
       "       'App', 'Hard', 'Hard', 'Hard', 'Hard', 'App', 'App', 'Hard', 'App',\n",
       "       'Hard', 'App', 'Hard', 'Hard', 'Hard', 'Hard', 'Hard', 'App',\n",
       "       'App', 'App', 'App', 'App', 'App', 'App', 'App', 'Hard', 'Hard',\n",
       "       'App', 'App', 'App', 'Hard', 'App', 'Hard', 'Hard', 'Hard', 'Hard',\n",
       "       'Hard', 'App', 'Hard', 'Hard', 'App', 'Hard', 'Hard', 'Hard',\n",
       "       'Hard', 'App', 'App', 'Hard', 'App', 'App', 'Hard', 'App', 'Hard',\n",
       "       'Hard', 'App', 'App', 'App', 'Hard', 'App', 'Hard', 'Hard', 'Hard',\n",
       "       'App', 'Hard', 'App', 'App', 'App', 'App', 'Hard', 'App', 'App',\n",
       "       'App', 'Hard', 'Hard', 'Hard', 'App', 'Hard', 'Hard', 'App',\n",
       "       'Hard', 'App', 'Hard', 'Hard', 'Hard', 'App', 'Hard', 'App', 'App',\n",
       "       'App', 'Hard', 'App', 'App', 'App', 'Hard', 'Hard', 'Hard', 'App',\n",
       "       'Hard', 'Hard', 'App', 'Hard', 'App', 'App', 'App', 'Hard', 'Hard',\n",
       "       'App', 'Hard', 'Hard', 'App', 'Hard', 'App', 'Hard', 'Hard', 'App',\n",
       "       'App', 'Hard', 'Hard', 'App', 'Hard', 'App', 'Hard', 'App', 'App',\n",
       "       'Hard', 'App', 'App', 'App', 'Hard', 'App', 'App', 'App', 'Hard',\n",
       "       'App', 'Hard', 'Hard', 'Hard', 'App', 'App', 'App', 'App', 'Hard',\n",
       "       'Hard', 'Hard', 'App', 'App', 'App', 'App', 'Hard', 'App', 'App',\n",
       "       'Hard', 'Hard', 'App', 'App', 'App', 'Hard', 'Hard', 'App', 'Hard',\n",
       "       'App', 'Hard', 'Hard', 'Hard', 'Hard', 'Hard', 'App', 'App',\n",
       "       'Hard', 'App', 'Hard', 'App', 'Hard', 'Hard', 'App', 'Hard', 'App',\n",
       "       'Hard', 'Hard', 'App', 'Hard', 'App', 'Hard', 'Hard', 'Hard',\n",
       "       'App', 'Hard', 'App', 'App', 'App', 'App', 'Hard', 'App', 'Hard',\n",
       "       'Hard', 'App', 'App', 'App', 'App', 'Hard', 'Hard', 'App', 'App',\n",
       "       'App', 'App', 'App', 'App', 'Hard', 'App', 'Hard', 'Hard', 'Hard',\n",
       "       'App', 'Hard', 'App', 'App', 'App', 'Hard', 'App', 'App', 'Hard',\n",
       "       'Hard', 'Hard', 'App', 'App', 'App', 'Hard', 'Hard', 'App', 'Hard',\n",
       "       'App', 'Hard', 'Hard', 'App', 'App', 'App', 'App', 'Hard', 'App',\n",
       "       'App', 'App', 'Hard', 'Hard', 'App', 'Hard', 'Hard', 'App', 'App',\n",
       "       'App', 'Hard', 'App', 'Hard', 'Hard', 'Hard', 'Hard', 'Hard',\n",
       "       'Hard', 'App', 'Hard', 'Hard', 'Hard', 'App', 'App', 'Hard',\n",
       "       'Hard', 'App', 'App', 'Hard', 'App', 'App', 'Hard', 'App', 'Hard',\n",
       "       'App', 'Hard', 'Hard', 'App', 'Hard', 'Hard', 'Hard', 'App',\n",
       "       'Hard', 'Hard', 'Hard', 'Hard', 'Hard', 'App', 'Hard', 'Hard',\n",
       "       'App', 'App', 'App', 'App', 'App', 'Hard', 'App', 'App', 'Hard',\n",
       "       'App', 'App', 'Hard', 'App', 'App', 'App', 'App', 'App', 'Hard',\n",
       "       'Hard', 'Hard', 'Hard', 'Hard', 'Hard', 'App', 'Hard', 'App',\n",
       "       'App', 'App', 'Hard', 'Hard', 'App', 'App', 'Hard', 'Hard', 'Hard',\n",
       "       'App', 'App', 'App', 'Hard', 'Hard', 'App', 'App', 'App', 'App',\n",
       "       'Hard', 'App', 'App', 'App', 'Hard', 'App', 'Hard', 'App', 'App',\n",
       "       'App', 'App', 'Hard', 'Hard', 'Hard', 'Hard', 'App', 'App', 'Hard',\n",
       "       'App', 'Hard', 'App', 'Hard', 'App', 'App', 'App', 'App', 'Hard',\n",
       "       'Hard', 'Hard', 'App', 'Hard', 'App', 'Hard', 'Hard', 'App', 'App',\n",
       "       'Hard', 'Hard', 'App', 'App', 'Hard', 'Hard', 'App', 'App', 'Hard',\n",
       "       'App', 'App', 'App', 'App', 'Hard', 'App', 'Hard', 'App', 'App',\n",
       "       'Hard', 'App', 'App', 'Hard', 'Hard', 'App', 'App', 'Hard', 'App',\n",
       "       'App', 'Hard', 'Hard', 'Hard', 'App', 'Hard', 'App', 'App', 'Hard',\n",
       "       'App', 'Hard', 'Hard', 'App', 'Hard', 'App', 'App', 'Hard', 'App',\n",
       "       'App', 'App', 'Hard', 'Hard', 'App', 'Hard', 'App', 'App', 'Hard',\n",
       "       'Hard', 'Hard', 'Hard', 'Hard', 'App', 'App', 'Hard', 'App',\n",
       "       'Hard', 'Hard', 'App', 'Hard', 'App', 'App', 'Hard', 'App', 'Hard',\n",
       "       'App', 'App', 'Hard', 'Hard', 'App', 'Hard', 'Hard', 'Hard',\n",
       "       'Hard', 'Hard', 'App', 'App', 'App', 'Hard', 'Hard', 'App', 'Hard',\n",
       "       'Hard', 'App', 'App', 'Hard', 'App', 'Hard', 'Hard', 'Hard', 'App',\n",
       "       'App', 'Hard', 'Hard', 'App', 'App', 'App', 'App', 'App', 'App',\n",
       "       'Hard', 'Hard', 'Hard', 'App', 'App', 'Hard', 'Hard', 'App',\n",
       "       'Hard', 'Hard', 'App', 'Hard', 'Hard', 'Hard', 'Hard', 'App',\n",
       "       'App', 'App', 'App', 'Hard', 'Hard', 'App', 'Hard', 'App', 'App',\n",
       "       'Hard', 'Hard', 'Hard', 'Hard', 'App', 'Hard', 'App', 'Hard',\n",
       "       'App', 'App', 'App', 'App', 'Hard', 'App', 'Hard', 'Hard', 'App',\n",
       "       'App', 'App', 'Hard', 'Hard', 'Hard', 'Hard', 'App', 'App', 'App',\n",
       "       'App', 'App', 'Hard', 'App', 'Hard', 'Hard', 'Hard', 'App', 'App',\n",
       "       'App', 'Hard', 'Hard', 'App', 'App', 'App', 'App', 'App', 'App',\n",
       "       'App', 'Hard', 'App', 'App', 'App', 'App', 'Hard', 'Hard', 'Hard',\n",
       "       'App', 'Hard', 'Hard', 'Hard', 'App', 'App', 'App', 'App', 'App',\n",
       "       'Hard', 'Hard', 'App', 'Hard', 'App', 'App', 'App', 'Hard', 'Hard',\n",
       "       'App', 'Hard', 'Hard', 'Hard', 'Hard', 'Hard', 'Hard', 'App',\n",
       "       'App', 'App', 'App', 'App', 'Hard', 'App', 'App', 'Hard', 'Hard',\n",
       "       'App', 'Hard', 'App', 'App', 'App', 'App', 'Hard', 'Hard', 'App',\n",
       "       'App', 'Hard', 'App', 'App', 'App', 'Hard', 'App', 'Hard', 'Hard',\n",
       "       'Hard', 'Hard', 'App', 'App', 'App', 'App', 'App', 'App', 'Hard',\n",
       "       'Hard', 'Hard', 'Hard', 'App', 'Hard', 'App', 'Hard', 'Hard',\n",
       "       'App', 'Hard', 'Hard', 'Hard', 'App', 'Hard', 'Hard', 'Hard',\n",
       "       'Hard', 'Hard', 'Hard', 'App', 'Hard', 'App', 'App', 'App', 'Hard',\n",
       "       'App', 'Hard', 'App', 'Hard', 'Hard', 'Hard', 'Hard', 'App', 'App',\n",
       "       'Hard', 'Hard', 'Hard', 'App', 'Hard', 'Hard', 'App', 'Hard',\n",
       "       'App', 'App', 'Hard', 'Hard', 'App', 'Hard', 'Hard', 'App', 'App',\n",
       "       'Hard', 'Hard', 'Hard', 'App', 'App', 'Hard', 'Hard', 'App',\n",
       "       'Hard', 'Hard', 'Hard', 'App', 'App', 'App', 'Hard', 'Hard', 'App',\n",
       "       'Hard', 'App', 'Hard', 'App', 'Hard', 'App', 'Hard', 'App', 'App',\n",
       "       'Hard', 'Hard', 'App', 'Hard', 'Hard', 'App', 'Hard', 'App', 'App',\n",
       "       'App', 'Hard', 'App', 'Hard', 'Hard', 'Hard', 'App', 'Hard',\n",
       "       'Hard', 'App', 'App', 'App'], dtype=object)"
      ]
     },
     "execution_count": 30,
     "metadata": {},
     "output_type": "execute_result"
    }
   ],
   "source": [
    "actual"
   ]
  },
  {
   "cell_type": "code",
   "execution_count": 31,
   "metadata": {},
   "outputs": [],
   "source": [
    "count = 0\n",
    "for i in range(len(pred)):\n",
    "    if pred[i] == actual[i]:\n",
    "        count = count + 1"
   ]
  },
  {
   "cell_type": "code",
   "execution_count": 32,
   "metadata": {},
   "outputs": [
    {
     "data": {
      "text/plain": [
       "739"
      ]
     },
     "execution_count": 32,
     "metadata": {},
     "output_type": "execute_result"
    }
   ],
   "source": [
    "count"
   ]
  },
  {
   "cell_type": "code",
   "execution_count": 33,
   "metadata": {},
   "outputs": [
    {
     "data": {
      "text/plain": [
       "801"
      ]
     },
     "execution_count": 33,
     "metadata": {},
     "output_type": "execute_result"
    }
   ],
   "source": [
    "len(pred)"
   ]
  },
  {
   "cell_type": "code",
   "execution_count": 34,
   "metadata": {},
   "outputs": [
    {
     "data": {
      "text/plain": [
       "0.9225967540574282"
      ]
     },
     "execution_count": 34,
     "metadata": {},
     "output_type": "execute_result"
    }
   ],
   "source": [
    "count / len(pred)"
   ]
  },
  {
   "cell_type": "code",
   "execution_count": 35,
   "metadata": {
    "scrolled": true
   },
   "outputs": [
    {
     "data": {
      "text/plain": [
       "0       1\n",
       "1       1\n",
       "2       1\n",
       "3       1\n",
       "4       1\n",
       "5       1\n",
       "6       1\n",
       "7       1\n",
       "8       1\n",
       "9       1\n",
       "10      1\n",
       "11      1\n",
       "12      1\n",
       "13      1\n",
       "14      1\n",
       "15      1\n",
       "16      1\n",
       "17      1\n",
       "18      1\n",
       "19      1\n",
       "20      1\n",
       "21      1\n",
       "22      1\n",
       "23      1\n",
       "24      1\n",
       "25      1\n",
       "26      1\n",
       "27      1\n",
       "28      1\n",
       "29      1\n",
       "       ..\n",
       "3973    0\n",
       "3974    0\n",
       "3975    0\n",
       "3976    0\n",
       "3977    0\n",
       "3978    0\n",
       "3979    0\n",
       "3980    0\n",
       "3981    0\n",
       "3982    0\n",
       "3983    0\n",
       "3984    0\n",
       "3985    0\n",
       "3986    0\n",
       "3987    0\n",
       "3988    0\n",
       "3989    0\n",
       "3990    0\n",
       "3991    0\n",
       "3992    0\n",
       "3993    0\n",
       "3994    0\n",
       "3995    0\n",
       "3996    0\n",
       "3997    0\n",
       "3998    0\n",
       "3999    0\n",
       "4000    0\n",
       "4001    0\n",
       "4002    0\n",
       "Length: 4003, dtype: int64"
      ]
     },
     "execution_count": 35,
     "metadata": {},
     "output_type": "execute_result"
    }
   ],
   "source": [
    "bi_y = []\n",
    "for ele in df_y:\n",
    "    if ele == 'App':\n",
    "        bi_y.append(1)\n",
    "    else :\n",
    "        bi_y.append(0)\n",
    "bi_y = pd.Series(bi_y)\n",
    "bi_y\n",
    "# app = 1 , hard = 0"
   ]
  },
  {
   "cell_type": "code",
   "execution_count": 36,
   "metadata": {},
   "outputs": [],
   "source": [
    "# custom tokenizer를 이용한 분류기를 구현한 파이프 라인\n",
    "vect_tokenizer = TfidfVectorizer().build_analyzer()\n",
    "lemmatizer = WordNetLemmatizer()\n",
    "\n",
    "def custom_tokenizer (doc) :\n",
    "    tokens = vect_tokenizer(doc)\n",
    "    return [lemmatizer.lemmatize(token) for token in tokens]\n",
    "\n",
    "def create_model ():\n",
    "    tfidf = TfidfVectorizer(tokenizer = custom_tokenizer,stop_words = \"english\")\n",
    "    clf = MultinomialNB()\n",
    "    pipeline = Pipeline([('vect',tfidf), ('clf',clf)])\n",
    "    return pipeline"
   ]
  },
  {
   "cell_type": "code",
   "execution_count": 37,
   "metadata": {
    "scrolled": true
   },
   "outputs": [
    {
     "name": "stdout",
     "output_type": "stream",
     "text": [
      "0.928\t0.003\t0.980\t0.004\n"
     ]
    },
    {
     "data": {
      "image/png": "[encoded data removed]",
      "text/plain": [
       "<matplotlib.figure.Figure at 0x20ef655e2b0>"
      ]
     },
     "metadata": {},
     "output_type": "display_data"
    }
   ],
   "source": [
    "# 교차검증 - 일반화 성능 측정\n",
    "k_fold = KFold (n_splits = 5, random_state = 0, shuffle = True)\n",
    "\n",
    "scores = []\n",
    "pr_scores = []\n",
    "\n",
    "for train_index, test_index in k_fold.split(df_x):\n",
    "    \n",
    "    X_train, X_test = df_x[train_index], df_x[test_index]\n",
    "    Y_train, Y_test = bi_y[train_index], bi_y[test_index]\n",
    "    \n",
    "    clf = create_model()\n",
    "    clf.fit(X_train,Y_train)\n",
    "    Y_pred = clf.predict(X_test)\n",
    "    \n",
    "    train_score = clf.score(X_train,Y_train)\n",
    "    test_score = clf.score(X_test,Y_test)\n",
    "    \n",
    "    scores.append(test_score)\n",
    "    proba = clf.predict_proba(X_test)\n",
    "    \n",
    "    # proba[:,1] -> slicing  array , take all rows but keeping the second col\n",
    "    # There are probabilities of hard in '0' column\n",
    "    # There are probabilities of app in '1' column \n",
    "    precision, recall, pr_thresholds = precision_recall_curve(Y_test,proba[:,1])\n",
    "    pr_scores.append(auc(recall,precision))\n",
    "    \n",
    "summary = (np.mean(scores),np.std(scores),\n",
    "        np.mean(pr_scores),np.std(pr_scores))\n",
    "\n",
    "# mean precision, std , mean auc and std \n",
    "print(\"%.3f\\t%.3f\\t%.3f\\t%.3f\"%summary)\n",
    "\n",
    "close_default = np.argmin(np.abs(pr_thresholds - 0.5))\n",
    "\n",
    "plt.plot(precision,recall,label = \"Precision-recall-curve\")\n",
    "plt.plot(precision[close_default],recall[close_default],'o',markersize=10,label=\"Threshold 0.5\",fillstyle =\"none\",c= \"k\",mew = 2)\n",
    "plt.title('Precision-recall curve')\n",
    "plt.xlabel(\"Precision\")\n",
    "plt.ylabel(\"Recall\")\n",
    "plt.legend(loc = 'lower right')\n",
    "plt.show()\n",
    "# 교차검증을 수행하여 얻은 precision 의 평균 값은 91.6 , auc 평균 98% - 1에 가까울 수록 좋은 것 즉 recall 과 precision 둘다 높은 것\n",
    "# Threshold 값은 50%와 제일 가까운 값을 표시한 것"
   ]
  },
  {
   "cell_type": "code",
   "execution_count": 38,
   "metadata": {},
   "outputs": [],
   "source": [
    "# 그리드 서치를 이용한 최적 매개변수 탐색 - 정확도를 기준으로 판단\n",
    "#AUC는 불균형한 데이터를 평가할 때 유용하므로 정확도를 기준으로 판단한다. - grid search의 기본 설정값\n",
    "# grid search 내에서 데이터가 다시 훈련데이터와 검증데이터로 나뉜다. -> 훈련데이터를 모델 검증을 위해 중복 사용하는 것을 방지하기 위해\n",
    "\n",
    "X_train, X_test, Y_train, Y_test = train_test_split(df_x,df_y==\"App\",test_size = 0.2, random_state = 0,shuffle = 'True')\n",
    "\n",
    "def grid_search_model (clf_factory,X,Y):\n",
    "        \n",
    "    param_grid = dict(vect__ngram_range = [(1,1), (1,2), (1,3)]#,\n",
    "#                    vect__min_df = [1,2],\n",
    "#                    vect__use_idf=[False,True],\n",
    "#                    vect__sublinear_tf = [False,True],\n",
    "                     )\n",
    "\n",
    "    grid_search = GridSearchCV(clf_factory(),\n",
    "                               param_grid = param_grid,\n",
    "                               cv = 5,\n",
    "                               verbose = 5,\n",
    "                               return_train_score=True)\n",
    "    \n",
    "    grid_search.fit(X_train,Y_train)    \n",
    "    return grid_search"
   ]
  },
  {
   "cell_type": "code",
   "execution_count": 39,
   "metadata": {
    "scrolled": false
   },
   "outputs": [
    {
     "name": "stdout",
     "output_type": "stream",
     "text": [
      "Fitting 5 folds for each of 3 candidates, totalling 15 fits\n",
      "[CV] vect__ngram_range=(1, 1) ........................................\n",
      "[CV]  vect__ngram_range=(1, 1), score=0.9282371294851794, total=   5.0s\n",
      "[CV] vect__ngram_range=(1, 1) ........................................\n"
     ]
    },
    {
     "name": "stderr",
     "output_type": "stream",
     "text": [
      "[Parallel(n_jobs=1)]: Done   1 out of   1 | elapsed:    9.1s remaining:    0.0s\n"
     ]
    },
    {
     "name": "stdout",
     "output_type": "stream",
     "text": [
      "[CV]  vect__ngram_range=(1, 1), score=0.9453978159126365, total=   5.3s\n",
      "[CV] vect__ngram_range=(1, 1) ........................................\n"
     ]
    },
    {
     "name": "stderr",
     "output_type": "stream",
     "text": [
      "[Parallel(n_jobs=1)]: Done   2 out of   2 | elapsed:   18.9s remaining:    0.0s\n"
     ]
    },
    {
     "name": "stdout",
     "output_type": "stream",
     "text": [
      "[CV] ........ vect__ngram_range=(1, 1), score=0.9140625, total=   5.6s\n",
      "[CV] vect__ngram_range=(1, 1) ........................................\n"
     ]
    },
    {
     "name": "stderr",
     "output_type": "stream",
     "text": [
      "[Parallel(n_jobs=1)]: Done   3 out of   3 | elapsed:   28.8s remaining:    0.0s\n"
     ]
    },
    {
     "name": "stdout",
     "output_type": "stream",
     "text": [
      "[CV] ............ vect__ngram_range=(1, 1), score=0.925, total=   5.0s\n",
      "[CV] vect__ngram_range=(1, 1) ........................................\n"
     ]
    },
    {
     "name": "stderr",
     "output_type": "stream",
     "text": [
      "[Parallel(n_jobs=1)]: Done   4 out of   4 | elapsed:   38.0s remaining:    0.0s\n"
     ]
    },
    {
     "name": "stdout",
     "output_type": "stream",
     "text": [
      "[CV] ............ vect__ngram_range=(1, 1), score=0.925, total=   5.4s\n",
      "[CV] vect__ngram_range=(1, 2) ........................................\n",
      "[CV]  vect__ngram_range=(1, 2), score=0.9282371294851794, total=   7.1s\n",
      "[CV] vect__ngram_range=(1, 2) ........................................\n",
      "[CV]  vect__ngram_range=(1, 2), score=0.9407176287051482, total=   7.0s\n",
      "[CV] vect__ngram_range=(1, 2) ........................................\n",
      "[CV] ........ vect__ngram_range=(1, 2), score=0.9109375, total=   7.2s\n",
      "[CV] vect__ngram_range=(1, 2) ........................................\n",
      "[CV] ............ vect__ngram_range=(1, 2), score=0.925, total=   7.6s\n",
      "[CV] vect__ngram_range=(1, 2) ........................................\n",
      "[CV] ......... vect__ngram_range=(1, 2), score=0.921875, total=   7.4s\n",
      "[CV] vect__ngram_range=(1, 3) ........................................\n",
      "[CV]  vect__ngram_range=(1, 3), score=0.9266770670826833, total=  10.6s\n",
      "[CV] vect__ngram_range=(1, 3) ........................................\n",
      "[CV]  vect__ngram_range=(1, 3), score=0.9407176287051482, total=   9.6s\n",
      "[CV] vect__ngram_range=(1, 3) ........................................\n",
      "[CV] ........ vect__ngram_range=(1, 3), score=0.9109375, total=  10.4s\n",
      "[CV] vect__ngram_range=(1, 3) ........................................\n",
      "[CV] ........ vect__ngram_range=(1, 3), score=0.9234375, total=   9.6s\n",
      "[CV] vect__ngram_range=(1, 3) ........................................\n",
      "[CV] .......... vect__ngram_range=(1, 3), score=0.91875, total=   9.8s\n"
     ]
    },
    {
     "name": "stderr",
     "output_type": "stream",
     "text": [
      "[Parallel(n_jobs=1)]: Done  15 out of  15 | elapsed:  3.1min finished\n"
     ]
    }
   ],
   "source": [
    "# gridsearch\n",
    "grid = grid_search_model(create_model,X_train,Y_train)"
   ]
  },
  {
   "cell_type": "code",
   "execution_count": 40,
   "metadata": {},
   "outputs": [
    {
     "data": {
      "text/plain": [
       "{'vect__ngram_range': (1, 1)}"
      ]
     },
     "execution_count": 40,
     "metadata": {},
     "output_type": "execute_result"
    }
   ],
   "source": [
    "#최적의 매개변수\n",
    "grid.best_params_"
   ]
  },
  {
   "cell_type": "code",
   "execution_count": 41,
   "metadata": {},
   "outputs": [
    {
     "data": {
      "text/plain": [
       "0.9275452841973766"
      ]
     },
     "execution_count": 41,
     "metadata": {},
     "output_type": "execute_result"
    }
   ],
   "source": [
    "# 최상의 교차 검증 점수 (정확도)\n",
    "grid.best_score_"
   ]
  },
  {
   "cell_type": "code",
   "execution_count": 42,
   "metadata": {},
   "outputs": [
    {
     "data": {
      "text/plain": [
       "0.9793600009978546"
      ]
     },
     "execution_count": 42,
     "metadata": {},
     "output_type": "execute_result"
    }
   ],
   "source": [
    "#테스트 세트 AUC\n",
    "roc_auc_score(Y_test,grid.predict_proba(X_test)[:,1])"
   ]
  },
  {
   "cell_type": "code",
   "execution_count": 43,
   "metadata": {},
   "outputs": [
    {
     "data": {
      "text/plain": [
       "0.9250936329588015"
      ]
     },
     "execution_count": 43,
     "metadata": {},
     "output_type": "execute_result"
    }
   ],
   "source": [
    "#테스트 세트 정확도\n",
    "grid.score(X_test,Y_test)"
   ]
  },
  {
   "cell_type": "code",
   "execution_count": 44,
   "metadata": {},
   "outputs": [
    {
     "data": {
      "text/html": [
       "<div>\n",
       "<style scoped>\n",
       "    .dataframe tbody tr th:only-of-type {\n",
       "        vertical-align: middle;\n",
       "    }\n",
       "\n",
       "    .dataframe tbody tr th {\n",
       "        vertical-align: top;\n",
       "    }\n",
       "\n",
       "    .dataframe thead th {\n",
       "        text-align: right;\n",
       "    }\n",
       "</style>\n",
       "<table border=\"1\" class=\"dataframe\">\n",
       "  <thead>\n",
       "    <tr style=\"text-align: right;\">\n",
       "      <th></th>\n",
       "      <th>mean_fit_time</th>\n",
       "      <th>mean_score_time</th>\n",
       "      <th>mean_test_score</th>\n",
       "      <th>mean_train_score</th>\n",
       "      <th>param_vect__ngram_range</th>\n",
       "      <th>params</th>\n",
       "      <th>rank_test_score</th>\n",
       "      <th>split0_test_score</th>\n",
       "      <th>split0_train_score</th>\n",
       "      <th>split1_test_score</th>\n",
       "      <th>...</th>\n",
       "      <th>split2_test_score</th>\n",
       "      <th>split2_train_score</th>\n",
       "      <th>split3_test_score</th>\n",
       "      <th>split3_train_score</th>\n",
       "      <th>split4_test_score</th>\n",
       "      <th>split4_train_score</th>\n",
       "      <th>std_fit_time</th>\n",
       "      <th>std_score_time</th>\n",
       "      <th>std_test_score</th>\n",
       "      <th>std_train_score</th>\n",
       "    </tr>\n",
       "  </thead>\n",
       "  <tbody>\n",
       "    <tr>\n",
       "      <th>0</th>\n",
       "      <td>4.283114</td>\n",
       "      <td>1.077716</td>\n",
       "      <td>0.927545</td>\n",
       "      <td>0.956823</td>\n",
       "      <td>(1, 1)</td>\n",
       "      <td>{'vect__ngram_range': (1, 1)}</td>\n",
       "      <td>1</td>\n",
       "      <td>0.928237</td>\n",
       "      <td>0.957048</td>\n",
       "      <td>0.945398</td>\n",
       "      <td>...</td>\n",
       "      <td>0.914062</td>\n",
       "      <td>0.960578</td>\n",
       "      <td>0.925000</td>\n",
       "      <td>0.957065</td>\n",
       "      <td>0.925000</td>\n",
       "      <td>0.957455</td>\n",
       "      <td>0.183053</td>\n",
       "      <td>0.097642</td>\n",
       "      <td>0.010140</td>\n",
       "      <td>0.002762</td>\n",
       "    </tr>\n",
       "    <tr>\n",
       "      <th>1</th>\n",
       "      <td>6.171309</td>\n",
       "      <td>1.189548</td>\n",
       "      <td>0.925359</td>\n",
       "      <td>0.978841</td>\n",
       "      <td>(1, 2)</td>\n",
       "      <td>{'vect__ngram_range': (1, 2)}</td>\n",
       "      <td>2</td>\n",
       "      <td>0.928237</td>\n",
       "      <td>0.979305</td>\n",
       "      <td>0.940718</td>\n",
       "      <td>...</td>\n",
       "      <td>0.910937</td>\n",
       "      <td>0.981655</td>\n",
       "      <td>0.925000</td>\n",
       "      <td>0.977752</td>\n",
       "      <td>0.921875</td>\n",
       "      <td>0.979313</td>\n",
       "      <td>0.183172</td>\n",
       "      <td>0.063486</td>\n",
       "      <td>0.009639</td>\n",
       "      <td>0.001823</td>\n",
       "    </tr>\n",
       "    <tr>\n",
       "      <th>2</th>\n",
       "      <td>8.725202</td>\n",
       "      <td>1.366694</td>\n",
       "      <td>0.924110</td>\n",
       "      <td>0.987196</td>\n",
       "      <td>(1, 3)</td>\n",
       "      <td>{'vect__ngram_range': (1, 3)}</td>\n",
       "      <td>3</td>\n",
       "      <td>0.926677</td>\n",
       "      <td>0.988676</td>\n",
       "      <td>0.940718</td>\n",
       "      <td>...</td>\n",
       "      <td>0.910937</td>\n",
       "      <td>0.988290</td>\n",
       "      <td>0.923438</td>\n",
       "      <td>0.985948</td>\n",
       "      <td>0.918750</td>\n",
       "      <td>0.987119</td>\n",
       "      <td>0.347244</td>\n",
       "      <td>0.108534</td>\n",
       "      <td>0.009851</td>\n",
       "      <td>0.001142</td>\n",
       "    </tr>\n",
       "  </tbody>\n",
       "</table>\n",
       "<p>3 rows × 21 columns</p>\n",
       "</div>"
      ],
      "text/plain": [
       "   mean_fit_time  mean_score_time  mean_test_score  mean_train_score  \\\n",
       "0       4.283114         1.077716         0.927545          0.956823   \n",
       "1       6.171309         1.189548         0.925359          0.978841   \n",
       "2       8.725202         1.366694         0.924110          0.987196   \n",
       "\n",
       "  param_vect__ngram_range                         params  rank_test_score  \\\n",
       "0                  (1, 1)  {'vect__ngram_range': (1, 1)}                1   \n",
       "1                  (1, 2)  {'vect__ngram_range': (1, 2)}                2   \n",
       "2                  (1, 3)  {'vect__ngram_range': (1, 3)}                3   \n",
       "\n",
       "   split0_test_score  split0_train_score  split1_test_score       ...         \\\n",
       "0           0.928237            0.957048           0.945398       ...          \n",
       "1           0.928237            0.979305           0.940718       ...          \n",
       "2           0.926677            0.988676           0.940718       ...          \n",
       "\n",
       "   split2_test_score  split2_train_score  split3_test_score  \\\n",
       "0           0.914062            0.960578           0.925000   \n",
       "1           0.910937            0.981655           0.925000   \n",
       "2           0.910937            0.988290           0.923438   \n",
       "\n",
       "   split3_train_score  split4_test_score  split4_train_score  std_fit_time  \\\n",
       "0            0.957065           0.925000            0.957455      0.183053   \n",
       "1            0.977752           0.921875            0.979313      0.183172   \n",
       "2            0.985948           0.918750            0.987119      0.347244   \n",
       "\n",
       "   std_score_time  std_test_score  std_train_score  \n",
       "0        0.097642        0.010140         0.002762  \n",
       "1        0.063486        0.009639         0.001823  \n",
       "2        0.108534        0.009851         0.001142  \n",
       "\n",
       "[3 rows x 21 columns]"
      ]
     },
     "metadata": {},
     "output_type": "display_data"
    }
   ],
   "source": [
    "results = pd.DataFrame(grid.cv_results_)\n",
    "display(results)"
   ]
  },
  {
   "cell_type": "code",
   "execution_count": 45,
   "metadata": {},
   "outputs": [
    {
     "data": {
      "text/plain": [
       "TfidfVectorizer(analyzer='word', binary=False, decode_error='strict',\n",
       "        dtype=<class 'numpy.int64'>, encoding='utf-8', input='content',\n",
       "        lowercase=True, max_df=1.0, max_features=None, min_df=1,\n",
       "        ngram_range=(1, 1), norm='l2', preprocessor=None, smooth_idf=True,\n",
       "        stop_words='english', strip_accents=None, sublinear_tf=False,\n",
       "        token_pattern='(?u)\\\\b\\\\w\\\\w+\\\\b',\n",
       "        tokenizer=<function custom_tokenizer at 0x0000020EF6550510>,\n",
       "        use_idf=True, vocabulary=None)"
      ]
     },
     "execution_count": 45,
     "metadata": {},
     "output_type": "execute_result"
    }
   ],
   "source": [
    "# 최적매개변수를 지닌 vect를 추출\n",
    "best_vector=grid.best_estimator_.named_steps[\"vect\"]\n",
    "best_vector"
   ]
  },
  {
   "cell_type": "code",
   "execution_count": 46,
   "metadata": {},
   "outputs": [
    {
     "data": {
      "text/plain": [
       "MultinomialNB(alpha=1.0, class_prior=None, fit_prior=True)"
      ]
     },
     "execution_count": 46,
     "metadata": {},
     "output_type": "execute_result"
    }
   ],
   "source": [
    "# 최적매개변수를 통해 산출된 분류기 추출\n",
    "best_classifier = grid.best_estimator_.named_steps[\"clf\"]\n",
    "best_classifier"
   ]
  },
  {
   "cell_type": "code",
   "execution_count": 47,
   "metadata": {},
   "outputs": [
    {
     "name": "stdout",
     "output_type": "stream",
     "text": [
      "tfidf가 가장 낮은 특성 : \n",
      "['7012' 'rework' 'reys' 'holmdel' 'batterydr' '5lbs' 'dachshund' '20lbs'\n",
      " 'microbus' 'scamsdont' 'cyclist' 'v100' 'congratulate' 'riva' '12nffn'\n",
      " 'devolved' 'arrington' 'zf' 'learner' 'holodeck' 'cheered' 'drivethe'\n",
      " 'drivernot' '2626' 'dumpling' 'tensor' 'maxq' 'wiki' 'vehiclelsjensen'\n",
      " 'lincoln' 'lifethis' 'darrells' 'pegasus' 'meicos' 'infomercial'\n",
      " 'unsolvable' 'jogged' 'miniatx' 'geforce3' 'routinehe' 'mkz'\n",
      " 'iso_26262but' 'nj' 'themeand' 'somehowthank' 'breathless' 'vws' 'tflops'\n",
      " 'hokey' 'aiand']\n",
      "tfidf가 가장 높은 특성 : \n",
      "['magsafe' 'pebble' 'bag' 'paypal' 'cock' 'shuttle' 'vlc' 'pinterest'\n",
      " 'font' 'ad' 'genie' 'backup' 'xz2' 'linkedin' 'vero' 'hoverseat' 'skype'\n",
      " 'flash' 'karhoo' 'colibri' 'netatmo' 'gopro' 'pixie' 'pixelmator'\n",
      " 'oneplus' 'blizzard' 'skill' 'pollen' 'revolv' 'watermark' 'lego' 'roku'\n",
      " 'nova' 'lifestage' 'digit' 'fart' 'launcher' 'cabot' 'foursquare' 'viber'\n",
      " 'snip' 'plex' 'conf' 'bike' 'brightness' 'pillow' 'tampon' 'airtame'\n",
      " 'ipod' 'vine']\n"
     ]
    }
   ],
   "source": [
    "#scipy sparse matrix 참고하기 \n",
    "X_train_vect = best_vector.transform(X_train)\n",
    "max_value = X_train_vect.max(axis=0).toarray().ravel()\n",
    "sorted_by_tfidf = max_value.argsort()\n",
    "feature_names = np.array(best_vector.get_feature_names())\n",
    "print(\"tfidf가 가장 낮은 특성 : \\n{}\".format(feature_names[sorted_by_tfidf[:50]]))\n",
    "print(\"tfidf가 가장 높은 특성 : \\n{}\".format(feature_names[sorted_by_tfidf[-50:]]))"
   ]
  },
  {
   "cell_type": "code",
   "execution_count": 48,
   "metadata": {},
   "outputs": [],
   "source": [
    "# 분류기 object를 저장\n",
    "# file pointer에 의해 dump는 이어서 쓰게 되어 있다. \n",
    "dest = os.path.join('classifier','pkl_object')\n",
    "if not os.path.exists(dest):\n",
    "    os.makedirs(dest)\n",
    "\n",
    "f = open(os.path.join(dest,'classifier2.pkl'),'wb')\n",
    "pickle.dump(best_classifier,f,protocol = 4)\n",
    "f.close()"
   ]
  },
  {
   "cell_type": "code",
   "execution_count": 50,
   "metadata": {},
   "outputs": [],
   "source": [
    "from sklearn.externals import joblib\n",
    "# vectorizer object를 저장\n",
    "'''\n",
    "class customvect :\n",
    "    def __init__(self,vect,custom_tokenizer):\n",
    "        self.vect = vect\n",
    "        self.custom_tokenizer = custom_tokenizer\n",
    "\n",
    "obj = customvect(best_vector,custom_tokenizer)\n",
    "'''\n",
    "\n",
    "dest = os.path.join('classifier','pkl_vect')\n",
    "\n",
    "if not os.path.exists(dest):\n",
    "    os.makedirs(dest)\n",
    "\n",
    "f =  open(os.path.join(dest,'vect2.pkl'),'wb')\n",
    "pickle.dump(custom_tokenizer,f,protocol = 4)\n",
    "pickle.dump(best_vector,f,protocol = 4)\n",
    "f.close()\n",
    "\n",
    "# load 파일에서 custom vect 에 접근할 수 없다는 에러가 뜸"
   ]
  },
  {
   "cell_type": "code",
   "execution_count": null,
   "metadata": {},
   "outputs": [],
   "source": []
  }
 ],
 "metadata": {
  "kernelspec": {
   "display_name": "Python 3",
   "language": "python",
   "name": "python3"
  },
  "language_info": {
   "codemirror_mode": {
    "name": "ipython",
    "version": 3
   },
   "file_extension": ".py",
   "mimetype": "text/x-python",
   "name": "python",
   "nbconvert_exporter": "python",
   "pygments_lexer": "ipython3",
   "version": "3.6.4"
  }
 },
 "nbformat": 4,
 "nbformat_minor": 2
}
